{
 "cells": [
  {
   "cell_type": "code",
   "execution_count": 1,
   "metadata": {
    "collapsed": true
   },
   "outputs": [],
   "source": [
    "from ayasdi.core.api import Api\n",
    "connection = Api(username='myazdani@ucsd.edu',password='lKFvW93gqcE=!')"
   ]
  },
  {
   "cell_type": "code",
   "execution_count": 4,
   "metadata": {
    "collapsed": false
   },
   "outputs": [
    {
     "data": {
      "text/plain": [
       "[<Source 'us_cities.txt'>,\n",
       " <Source 'table-kegg-clean-transpose.csv 1'>,\n",
       " <Source 'keggs-subjects-rf-scores.csv'>,\n",
       " <Source 'synthetic_data.csv'>,\n",
       " <Source 'shuffled_synth_data.csv'>,\n",
       " <Source 'LS-L6-biomarkers.csv'>,\n",
       " <Source 'l6.csv'>,\n",
       " <Source 'BMI-AGE.csv'>,\n",
       " <Source 'BMI.csv'>,\n",
       " <Source 'tanhuato.csv'>,\n",
       " <Source 'ex6.csv'>,\n",
       " <Source 'ring-outside-disk.csv'>,\n",
       " <Source 'ResNet-152-20140701.csv'>,\n",
       " <Source 'values_zones_1_ayasdi_friendly.csv'>,\n",
       " <Source 'ResNet-152-20140703.csv'>,\n",
       " <Source 'ring.csv'>,\n",
       " <Source 'biomarkers.csv'>,\n",
       " <Source 'bow-allr_recipes.csv'>,\n",
       " <Source 'KEGG_querry_tfidf.csv'>,\n",
       " <Source 'AG-LS-L6.csv'>,\n",
       " <Source 'kegg-levels-id-subjects.csv'>,\n",
       " <Source 'table-kegg-clean-transpose.csv'>,\n",
       " <Source 'family-abundance.csv'>,\n",
       " <Source 'prp_maddash.csv'>,\n",
       " <Source 'unweighted_unifrac_67_otu_table-clean.txt'>,\n",
       " <Source 'table-kegg-clean.csv'>,\n",
       " <Source 'unifrac_dist_clean.txt'>,\n",
       " <Source 'BMI.csv'>]"
      ]
     },
     "execution_count": 4,
     "metadata": {},
     "output_type": "execute_result"
    }
   ],
   "source": [
    "connection.get_sources()"
   ]
  },
  {
   "cell_type": "code",
   "execution_count": 5,
   "metadata": {
    "collapsed": true
   },
   "outputs": [],
   "source": [
    "source = connection.get_source(name='table-kegg-clean-transpose.csv 1')"
   ]
  },
  {
   "cell_type": "code",
   "execution_count": 22,
   "metadata": {
    "collapsed": false
   },
   "outputs": [],
   "source": [
    "col_set = source.get_column_sets()[1]"
   ]
  },
  {
   "cell_type": "code",
   "execution_count": 23,
   "metadata": {
    "collapsed": true
   },
   "outputs": [],
   "source": [
    "network = source.create_network(\"fishbone-sdk\",{'column_set_id': col_set['id'],\n",
    "                                         'metric': {'id': 'Norm Correlation'},\n",
    "                                         'lenses': [{'resolution': 242, 'id': 'L-Infinity Centrality','equalize': False, 'gain': 5.7}]})"
   ]
  },
  {
   "cell_type": "code",
   "execution_count": 24,
   "metadata": {
    "collapsed": true
   },
   "outputs": [],
   "source": [
    "source.sync()"
   ]
  },
  {
   "cell_type": "code",
   "execution_count": 25,
   "metadata": {
    "collapsed": true
   },
   "outputs": [],
   "source": [
    "network.show()"
   ]
  },
  {
   "cell_type": "code",
   "execution_count": 26,
   "metadata": {
    "collapsed": true
   },
   "outputs": [],
   "source": [
    "network_eq = source.create_network(\"fishbone-sdk-equalized\",{'column_set_id': col_set['id'],\n",
    "                                         'metric': {'id': 'Norm Correlation'},\n",
    "                                         'lenses': [{'resolution': 242, 'id': 'L-Infinity Centrality','equalize': True, 'gain': 5.7}]})"
   ]
  },
  {
   "cell_type": "code",
   "execution_count": 27,
   "metadata": {
    "collapsed": true
   },
   "outputs": [],
   "source": [
    "source.sync()"
   ]
  },
  {
   "cell_type": "code",
   "execution_count": 28,
   "metadata": {
    "collapsed": true
   },
   "outputs": [],
   "source": [
    "network.show()"
   ]
  },
  {
   "cell_type": "code",
   "execution_count": null,
   "metadata": {
    "collapsed": true
   },
   "outputs": [],
   "source": []
  }
 ],
 "metadata": {
  "kernelspec": {
   "display_name": "Python 2",
   "language": "python",
   "name": "python2"
  },
  "language_info": {
   "codemirror_mode": {
    "name": "ipython",
    "version": 2
   },
   "file_extension": ".py",
   "mimetype": "text/x-python",
   "name": "python",
   "nbconvert_exporter": "python",
   "pygments_lexer": "ipython2",
   "version": "2.7.12"
  }
 },
 "nbformat": 4,
 "nbformat_minor": 0
}
