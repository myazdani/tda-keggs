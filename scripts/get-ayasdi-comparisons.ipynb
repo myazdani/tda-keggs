{
 "cells": [
  {
   "cell_type": "code",
   "execution_count": 1,
   "metadata": {
    "collapsed": false
   },
   "outputs": [
    {
     "name": "stderr",
     "output_type": "stream",
     "text": [
      "Vendor:  Continuum Analytics, Inc.\n",
      "Package: mkl\n",
      "Message: trial mode expires in 30 days\n"
     ]
    }
   ],
   "source": [
    "import pandas as pd\n",
    "\n",
    "\n",
    "import plotly.plotly as py\n",
    "from plotly.graph_objs import *\n",
    "\n",
    "import networkx as nx\n",
    "\n",
    "import network_vis\n",
    "\n",
    "from ayasdi.core.api import Api\n",
    "connection = Api(username='myazdani@ucsd.edu',password='lKFvW93gqcE=!')"
   ]
  },
  {
   "cell_type": "code",
   "execution_count": 2,
   "metadata": {
    "collapsed": true
   },
   "outputs": [],
   "source": [
    "source = connection.get_source(name='table-kegg-clean-transpose.csv 1')"
   ]
  },
  {
   "cell_type": "code",
   "execution_count": 3,
   "metadata": {
    "collapsed": false
   },
   "outputs": [
    {
     "data": {
      "text/plain": [
       "[u'subject.type = HE vs. Rest']"
      ]
     },
     "execution_count": 3,
     "metadata": {},
     "output_type": "execute_result"
    }
   ],
   "source": [
    "[i['name'] for i in source.get_comparisons()]"
   ]
  },
  {
   "cell_type": "markdown",
   "metadata": {},
   "source": [
    "## Simple cohort comparison between healthy and not healthy"
   ]
  },
  {
   "cell_type": "code",
   "execution_count": 4,
   "metadata": {
    "collapsed": false
   },
   "outputs": [
    {
     "data": {
      "text/html": [
       "<div>\n",
       "<table border=\"1\" class=\"dataframe\">\n",
       "  <thead>\n",
       "    <tr style=\"text-align: right;\">\n",
       "      <th></th>\n",
       "      <th>name</th>\n",
       "      <th>ks_score</th>\n",
       "      <th>ks_sign</th>\n",
       "      <th>p_value</th>\n",
       "      <th>t_test_p_value</th>\n",
       "      <th>diff_means</th>\n",
       "    </tr>\n",
       "  </thead>\n",
       "  <tbody>\n",
       "    <tr>\n",
       "      <th>1889</th>\n",
       "      <td>K00867.type_I_pantothenate_kinase.</td>\n",
       "      <td>0.971429</td>\n",
       "      <td>-</td>\n",
       "      <td>3.613776e-13</td>\n",
       "      <td>9.208640e-04</td>\n",
       "      <td>-0.000070</td>\n",
       "    </tr>\n",
       "    <tr>\n",
       "      <th>3535</th>\n",
       "      <td>K04108.4.hydroxybenzoyl.CoA_reductase_subunit_...</td>\n",
       "      <td>0.942857</td>\n",
       "      <td>-</td>\n",
       "      <td>1.917799e-12</td>\n",
       "      <td>1.018815e-05</td>\n",
       "      <td>-0.000078</td>\n",
       "    </tr>\n",
       "    <tr>\n",
       "      <th>6713</th>\n",
       "      <td>K00721.dolichol.phosphate_mannosyltransferase.</td>\n",
       "      <td>0.942857</td>\n",
       "      <td>+</td>\n",
       "      <td>1.917799e-12</td>\n",
       "      <td>4.795360e-14</td>\n",
       "      <td>0.000444</td>\n",
       "    </tr>\n",
       "    <tr>\n",
       "      <th>2300</th>\n",
       "      <td>K03753.molybdopterin.guanine_dinucleotide_bios...</td>\n",
       "      <td>0.935714</td>\n",
       "      <td>-</td>\n",
       "      <td>2.575939e-12</td>\n",
       "      <td>1.185121e-06</td>\n",
       "      <td>-0.000066</td>\n",
       "    </tr>\n",
       "    <tr>\n",
       "      <th>2966</th>\n",
       "      <td>K13641.IclR_family_transcriptional_regulator._...</td>\n",
       "      <td>0.935714</td>\n",
       "      <td>-</td>\n",
       "      <td>2.575939e-12</td>\n",
       "      <td>1.708861e-04</td>\n",
       "      <td>-0.000159</td>\n",
       "    </tr>\n",
       "  </tbody>\n",
       "</table>\n",
       "</div>"
      ],
      "text/plain": [
       "                                                   name  ks_score ks_sign  \\\n",
       "1889                 K00867.type_I_pantothenate_kinase.  0.971429       -   \n",
       "3535  K04108.4.hydroxybenzoyl.CoA_reductase_subunit_...  0.942857       -   \n",
       "6713     K00721.dolichol.phosphate_mannosyltransferase.  0.942857       +   \n",
       "2300  K03753.molybdopterin.guanine_dinucleotide_bios...  0.935714       -   \n",
       "2966  K13641.IclR_family_transcriptional_regulator._...  0.935714       -   \n",
       "\n",
       "           p_value  t_test_p_value  diff_means  \n",
       "1889  3.613776e-13    9.208640e-04   -0.000070  \n",
       "3535  1.917799e-12    1.018815e-05   -0.000078  \n",
       "6713  1.917799e-12    4.795360e-14    0.000444  \n",
       "2300  2.575939e-12    1.185121e-06   -0.000066  \n",
       "2966  2.575939e-12    1.708861e-04   -0.000159  "
      ]
     },
     "execution_count": 4,
     "metadata": {},
     "output_type": "execute_result"
    }
   ],
   "source": [
    "comparison = source.get_comparison('subject.type = HE vs. Rest')\n",
    "\n",
    "df = pd.DataFrame(comparison['continuous_explainers'])\n",
    "\n",
    "df = (df[[\"name\", 'ks_score', 'ks_sign', 'p_value', 't_test_p_value', 'diff_means']]\n",
    " .sort_values(\"ks_score\", axis = 0, ascending = False))\n",
    "\n",
    "df.head()"
   ]
  },
  {
   "cell_type": "code",
   "execution_count": 9,
   "metadata": {
    "collapsed": true
   },
   "outputs": [],
   "source": [
    "df.to_csv(\"../results/kegg-pca-list.csv\", index = False)"
   ]
  },
  {
   "cell_type": "code",
   "execution_count": 14,
   "metadata": {
    "collapsed": false
   },
   "outputs": [],
   "source": [
    "network = source.get_network(\"automatic\")\n"
   ]
  },
  {
   "cell_type": "code",
   "execution_count": 5,
   "metadata": {
    "collapsed": false
   },
   "outputs": [],
   "source": [
    "\n",
    "node_positions = {}\n",
    "for node in network.get_nodes():\n",
    "    node_positions[int(node['id'])] = [node['x'], node['y']]\n",
    "\n",
    "edges = []\n",
    "for edge in network.get_edges():\n",
    "    edges.append((edge[\"from\"], edge[\"to\"]))\n",
    "G=nx.from_edgelist(edges)\n",
    "\n",
    "pos = node_positions\n",
    "G.add_nodes_from(pos.keys())\n",
    "for n, p in pos.iteritems():\n",
    "    G.node[n]['pos'] = p"
   ]
  },
  {
   "cell_type": "code",
   "execution_count": 22,
   "metadata": {
    "collapsed": false
   },
   "outputs": [
    {
     "data": {
      "text/html": [
       "<iframe id=\"igraph\" scrolling=\"no\" style=\"border:none;\" seamless=\"seamless\" src=\"https://plot.ly/~crude2refined/2123.embed\" height=\"525px\" width=\"100%\"></iframe>"
      ],
      "text/plain": [
       "<plotly.tools.PlotlyDisplay object>"
      ]
     },
     "execution_count": 22,
     "metadata": {},
     "output_type": "execute_result"
    }
   ],
   "source": [
    "fig = network_vis.graph(G, node_positions, \n",
    "                        network.get_coloring_values('subject.type = HE'), \n",
    "                        {0: \"Not Healthy\", 1: \"Healthy\"}, \n",
    "                        chart_title = \"Healthy vs Not Healthy groups\", \n",
    "                        annotated_text = \"MDS Lens and Norm Correlation Metric\")\n",
    "\n",
    "py.iplot(fig)"
   ]
  },
  {
   "cell_type": "code",
   "execution_count": 7,
   "metadata": {
    "collapsed": false
   },
   "outputs": [
    {
     "data": {
      "text/html": [
       "<iframe id=\"igraph\" scrolling=\"no\" style=\"border:none;\" seamless=\"seamless\" src=\"https://plot.ly/~crude2refined/2113.embed\" height=\"525px\" width=\"100%\"></iframe>"
      ],
      "text/plain": [
       "<plotly.tools.PlotlyDisplay object>"
      ]
     },
     "execution_count": 7,
     "metadata": {},
     "output_type": "execute_result"
    }
   ],
   "source": [
    "network.get_coloring_values('HE subgroup 1 MDS norm correlation')\n",
    "\n",
    "fig = network_vis.graph(G, node_positions, \n",
    "                        network.get_coloring_values('HE subgroup 1 MDS norm correlation'), \n",
    "                        {0: \"Not in Healthy Group 1\", 1: \"Healthy Group 1\"})\n",
    "\n",
    "py.iplot(fig)"
   ]
  },
  {
   "cell_type": "code",
   "execution_count": 8,
   "metadata": {
    "collapsed": false
   },
   "outputs": [
    {
     "data": {
      "text/html": [
       "<iframe id=\"igraph\" scrolling=\"no\" style=\"border:none;\" seamless=\"seamless\" src=\"https://plot.ly/~crude2refined/2115.embed\" height=\"525px\" width=\"100%\"></iframe>"
      ],
      "text/plain": [
       "<plotly.tools.PlotlyDisplay object>"
      ]
     },
     "execution_count": 8,
     "metadata": {},
     "output_type": "execute_result"
    }
   ],
   "source": [
    "fig = network_vis.graph(G, node_positions, \n",
    "                        network.get_coloring_values('HE subgroup 2 MDS norm correlation'), \n",
    "                        {0: \"Not in Healthy Group 2\", 1: \"Healthy Group 2\"})\n",
    "\n",
    "py.iplot(fig)"
   ]
  }
 ],
 "metadata": {
  "kernelspec": {
   "display_name": "Python 2",
   "language": "python",
   "name": "python2"
  },
  "language_info": {
   "codemirror_mode": {
    "name": "ipython",
    "version": 2
   },
   "file_extension": ".py",
   "mimetype": "text/x-python",
   "name": "python",
   "nbconvert_exporter": "python",
   "pygments_lexer": "ipython2",
   "version": "2.7.12"
  }
 },
 "nbformat": 4,
 "nbformat_minor": 0
}
