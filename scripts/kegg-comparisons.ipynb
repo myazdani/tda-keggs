{
 "cells": [
  {
   "cell_type": "code",
   "execution_count": 1,
   "metadata": {
    "collapsed": false
   },
   "outputs": [
    {
     "name": "stderr",
     "output_type": "stream",
     "text": [
      "Vendor:  Continuum Analytics, Inc.\n",
      "Package: mkl\n",
      "Message: trial mode expires in 30 days\n"
     ]
    }
   ],
   "source": [
    "import pandas as pd\n",
    "import matplotlib.pyplot as plt\n",
    "\n",
    "%matplotlib inline"
   ]
  },
  {
   "cell_type": "code",
   "execution_count": 2,
   "metadata": {
    "collapsed": true
   },
   "outputs": [],
   "source": [
    "df = pd.read_csv(\"../data/KEGGs-8-zeros-filtered.csv\")"
   ]
  },
  {
   "cell_type": "code",
   "execution_count": 3,
   "metadata": {
    "collapsed": false
   },
   "outputs": [
    {
     "data": {
      "text/html": [
       "<div>\n",
       "<table border=\"1\" class=\"dataframe\">\n",
       "  <thead>\n",
       "    <tr style=\"text-align: right;\">\n",
       "      <th></th>\n",
       "      <th>Unnamed: 0</th>\n",
       "      <th>LS001</th>\n",
       "      <th>LS002</th>\n",
       "      <th>LS003</th>\n",
       "      <th>LS004</th>\n",
       "      <th>LS005</th>\n",
       "      <th>LS006</th>\n",
       "      <th>LS007</th>\n",
       "      <th>CD-SRS301865</th>\n",
       "      <th>CD-SRS301866</th>\n",
       "      <th>...</th>\n",
       "      <th>Ave CD</th>\n",
       "      <th>AVE UC</th>\n",
       "      <th>AVE LS</th>\n",
       "      <th>max HE/Ave HE</th>\n",
       "      <th>AVE LS/AVE HE</th>\n",
       "      <th>LS001/Ave HE</th>\n",
       "      <th>Ave CD/Ave HE</th>\n",
       "      <th>Ave UC/Ave HE</th>\n",
       "      <th>sick person/HE</th>\n",
       "      <th>AL HE/Ave HE</th>\n",
       "    </tr>\n",
       "  </thead>\n",
       "  <tbody>\n",
       "    <tr>\n",
       "      <th>0</th>\n",
       "      <td>K05594(ElaB_protein)</td>\n",
       "      <td>0.000084</td>\n",
       "      <td>0.000070</td>\n",
       "      <td>0.000070</td>\n",
       "      <td>0.000044</td>\n",
       "      <td>6.240762e-06</td>\n",
       "      <td>0.000012</td>\n",
       "      <td>6.222477e-05</td>\n",
       "      <td>0.000010</td>\n",
       "      <td>0.000005</td>\n",
       "      <td>...</td>\n",
       "      <td>0.000003</td>\n",
       "      <td>0.000041</td>\n",
       "      <td>0.000050</td>\n",
       "      <td>0.0</td>\n",
       "      <td>50000.0</td>\n",
       "      <td>84500.0</td>\n",
       "      <td>3340.0</td>\n",
       "      <td>41300.0</td>\n",
       "      <td>487000.0</td>\n",
       "      <td>0.0</td>\n",
       "    </tr>\n",
       "    <tr>\n",
       "      <th>1</th>\n",
       "      <td>K07356(fimbrial_protein)</td>\n",
       "      <td>0.000017</td>\n",
       "      <td>0.000113</td>\n",
       "      <td>0.000026</td>\n",
       "      <td>0.000019</td>\n",
       "      <td>1.279569e-06</td>\n",
       "      <td>0.000014</td>\n",
       "      <td>1.351805e-05</td>\n",
       "      <td>0.000006</td>\n",
       "      <td>0.000000</td>\n",
       "      <td>...</td>\n",
       "      <td>0.000001</td>\n",
       "      <td>0.000012</td>\n",
       "      <td>0.000029</td>\n",
       "      <td>0.0</td>\n",
       "      <td>29000.0</td>\n",
       "      <td>16600.0</td>\n",
       "      <td>1430.0</td>\n",
       "      <td>12200.0</td>\n",
       "      <td>402000.0</td>\n",
       "      <td>0.0</td>\n",
       "    </tr>\n",
       "    <tr>\n",
       "      <th>2</th>\n",
       "      <td>K12151(multiple_stress_resistance_protein_BhsA)</td>\n",
       "      <td>0.000094</td>\n",
       "      <td>0.000073</td>\n",
       "      <td>0.000103</td>\n",
       "      <td>0.000067</td>\n",
       "      <td>3.008022e-06</td>\n",
       "      <td>0.000030</td>\n",
       "      <td>4.745696e-05</td>\n",
       "      <td>0.000012</td>\n",
       "      <td>0.000000</td>\n",
       "      <td>...</td>\n",
       "      <td>0.000007</td>\n",
       "      <td>0.000067</td>\n",
       "      <td>0.000059</td>\n",
       "      <td>0.0</td>\n",
       "      <td>59500.0</td>\n",
       "      <td>93700.0</td>\n",
       "      <td>7310.0</td>\n",
       "      <td>67100.0</td>\n",
       "      <td>312000.0</td>\n",
       "      <td>0.0</td>\n",
       "    </tr>\n",
       "    <tr>\n",
       "      <th>3</th>\n",
       "      <td>K02554(2-keto-4-pentenoate_hydratase)</td>\n",
       "      <td>0.000001</td>\n",
       "      <td>0.000273</td>\n",
       "      <td>0.000173</td>\n",
       "      <td>0.000117</td>\n",
       "      <td>1.054530e-05</td>\n",
       "      <td>0.000048</td>\n",
       "      <td>9.721402e-07</td>\n",
       "      <td>0.000029</td>\n",
       "      <td>0.000018</td>\n",
       "      <td>...</td>\n",
       "      <td>0.000012</td>\n",
       "      <td>0.000111</td>\n",
       "      <td>0.000089</td>\n",
       "      <td>0.0</td>\n",
       "      <td>89100.0</td>\n",
       "      <td>1160.0</td>\n",
       "      <td>11900.0</td>\n",
       "      <td>111000.0</td>\n",
       "      <td>241000.0</td>\n",
       "      <td>0.0</td>\n",
       "    </tr>\n",
       "    <tr>\n",
       "      <th>4</th>\n",
       "      <td>K12290(pilus_assembly_protein_HofO)</td>\n",
       "      <td>0.000034</td>\n",
       "      <td>0.000034</td>\n",
       "      <td>0.000031</td>\n",
       "      <td>0.000018</td>\n",
       "      <td>5.542424e-07</td>\n",
       "      <td>0.000008</td>\n",
       "      <td>0.000000e+00</td>\n",
       "      <td>0.000006</td>\n",
       "      <td>0.000003</td>\n",
       "      <td>...</td>\n",
       "      <td>0.000003</td>\n",
       "      <td>0.000021</td>\n",
       "      <td>0.000018</td>\n",
       "      <td>0.0</td>\n",
       "      <td>18000.0</td>\n",
       "      <td>34300.0</td>\n",
       "      <td>2630.0</td>\n",
       "      <td>20900.0</td>\n",
       "      <td>235000.0</td>\n",
       "      <td>0.0</td>\n",
       "    </tr>\n",
       "  </tbody>\n",
       "</table>\n",
       "<p>5 rows × 81 columns</p>\n",
       "</div>"
      ],
      "text/plain": [
       "                                        Unnamed: 0     LS001     LS002  \\\n",
       "0                             K05594(ElaB_protein)  0.000084  0.000070   \n",
       "1                         K07356(fimbrial_protein)  0.000017  0.000113   \n",
       "2  K12151(multiple_stress_resistance_protein_BhsA)  0.000094  0.000073   \n",
       "3            K02554(2-keto-4-pentenoate_hydratase)  0.000001  0.000273   \n",
       "4              K12290(pilus_assembly_protein_HofO)  0.000034  0.000034   \n",
       "\n",
       "      LS003     LS004         LS005     LS006         LS007  CD-SRS301865  \\\n",
       "0  0.000070  0.000044  6.240762e-06  0.000012  6.222477e-05      0.000010   \n",
       "1  0.000026  0.000019  1.279569e-06  0.000014  1.351805e-05      0.000006   \n",
       "2  0.000103  0.000067  3.008022e-06  0.000030  4.745696e-05      0.000012   \n",
       "3  0.000173  0.000117  1.054530e-05  0.000048  9.721402e-07      0.000029   \n",
       "4  0.000031  0.000018  5.542424e-07  0.000008  0.000000e+00      0.000006   \n",
       "\n",
       "   CD-SRS301866      ...         Ave CD    AVE UC    AVE LS  max HE/Ave HE  \\\n",
       "0      0.000005      ...       0.000003  0.000041  0.000050            0.0   \n",
       "1      0.000000      ...       0.000001  0.000012  0.000029            0.0   \n",
       "2      0.000000      ...       0.000007  0.000067  0.000059            0.0   \n",
       "3      0.000018      ...       0.000012  0.000111  0.000089            0.0   \n",
       "4      0.000003      ...       0.000003  0.000021  0.000018            0.0   \n",
       "\n",
       "   AVE LS/AVE HE  LS001/Ave HE  Ave CD/Ave HE  Ave UC/Ave HE  sick person/HE  \\\n",
       "0        50000.0       84500.0         3340.0        41300.0        487000.0   \n",
       "1        29000.0       16600.0         1430.0        12200.0        402000.0   \n",
       "2        59500.0       93700.0         7310.0        67100.0        312000.0   \n",
       "3        89100.0        1160.0        11900.0       111000.0        241000.0   \n",
       "4        18000.0       34300.0         2630.0        20900.0        235000.0   \n",
       "\n",
       "   AL HE/Ave HE  \n",
       "0           0.0  \n",
       "1           0.0  \n",
       "2           0.0  \n",
       "3           0.0  \n",
       "4           0.0  \n",
       "\n",
       "[5 rows x 81 columns]"
      ]
     },
     "execution_count": 3,
     "metadata": {},
     "output_type": "execute_result"
    }
   ],
   "source": [
    "df.head()"
   ]
  },
  {
   "cell_type": "code",
   "execution_count": 4,
   "metadata": {
    "collapsed": true
   },
   "outputs": [],
   "source": [
    "keggs_full_names = df.iloc[:,0]"
   ]
  },
  {
   "cell_type": "code",
   "execution_count": 5,
   "metadata": {
    "collapsed": true
   },
   "outputs": [],
   "source": [
    "df_comparisons = pd.read_csv(\"../figures/ayasdi/cohorts/KEGGs-subset/Neighborhood-Lens-Norm-Correlation/Not HE vs. Rest_continuous.csv\")"
   ]
  },
  {
   "cell_type": "code",
   "execution_count": 6,
   "metadata": {
    "collapsed": false
   },
   "outputs": [
    {
     "data": {
      "text/html": [
       "<div>\n",
       "<table border=\"1\" class=\"dataframe\">\n",
       "  <thead>\n",
       "    <tr style=\"text-align: right;\">\n",
       "      <th></th>\n",
       "      <th>Column Name</th>\n",
       "      <th>P-value</th>\n",
       "      <th>KS Score</th>\n",
       "      <th>Group 1 Min</th>\n",
       "      <th>Group 1 Q1</th>\n",
       "      <th>Group 1 Median</th>\n",
       "      <th>Group 1 Q3</th>\n",
       "      <th>Group 1 Max</th>\n",
       "      <th>Group 2 Min</th>\n",
       "      <th>Group 2 Q1</th>\n",
       "      <th>Group 2 Median</th>\n",
       "      <th>Group 2 Q3</th>\n",
       "      <th>Group 2 Max</th>\n",
       "    </tr>\n",
       "  </thead>\n",
       "  <tbody>\n",
       "    <tr>\n",
       "      <th>0</th>\n",
       "      <td>K13683</td>\n",
       "      <td>2.984835e-12</td>\n",
       "      <td>0.967213</td>\n",
       "      <td>0.000000</td>\n",
       "      <td>2.928910e-06</td>\n",
       "      <td>0.000011</td>\n",
       "      <td>0.000034</td>\n",
       "      <td>0.000057</td>\n",
       "      <td>0.000000</td>\n",
       "      <td>0.000149</td>\n",
       "      <td>0.000399</td>\n",
       "      <td>0.000585</td>\n",
       "      <td>60.0</td>\n",
       "    </tr>\n",
       "    <tr>\n",
       "      <th>1</th>\n",
       "      <td>K08676</td>\n",
       "      <td>8.293921e-12</td>\n",
       "      <td>0.950820</td>\n",
       "      <td>0.000000</td>\n",
       "      <td>1.524630e-07</td>\n",
       "      <td>0.000005</td>\n",
       "      <td>0.000017</td>\n",
       "      <td>0.000027</td>\n",
       "      <td>0.000000</td>\n",
       "      <td>0.000098</td>\n",
       "      <td>0.000254</td>\n",
       "      <td>0.000411</td>\n",
       "      <td>59.0</td>\n",
       "    </tr>\n",
       "    <tr>\n",
       "      <th>2</th>\n",
       "      <td>K02014</td>\n",
       "      <td>8.293921e-12</td>\n",
       "      <td>0.950820</td>\n",
       "      <td>0.000018</td>\n",
       "      <td>4.600933e-05</td>\n",
       "      <td>0.000180</td>\n",
       "      <td>0.000568</td>\n",
       "      <td>0.000875</td>\n",
       "      <td>0.000018</td>\n",
       "      <td>0.003700</td>\n",
       "      <td>0.006671</td>\n",
       "      <td>0.010482</td>\n",
       "      <td>62.0</td>\n",
       "    </tr>\n",
       "    <tr>\n",
       "      <th>3</th>\n",
       "      <td>K01991</td>\n",
       "      <td>8.293921e-12</td>\n",
       "      <td>0.950820</td>\n",
       "      <td>0.000000</td>\n",
       "      <td>4.399279e-06</td>\n",
       "      <td>0.000011</td>\n",
       "      <td>0.000071</td>\n",
       "      <td>0.000108</td>\n",
       "      <td>0.000000</td>\n",
       "      <td>0.000341</td>\n",
       "      <td>0.000616</td>\n",
       "      <td>0.000988</td>\n",
       "      <td>58.0</td>\n",
       "    </tr>\n",
       "    <tr>\n",
       "      <th>4</th>\n",
       "      <td>K09758</td>\n",
       "      <td>1.962863e-11</td>\n",
       "      <td>0.934426</td>\n",
       "      <td>0.000000</td>\n",
       "      <td>0.000000e+00</td>\n",
       "      <td>0.000006</td>\n",
       "      <td>0.000020</td>\n",
       "      <td>0.000030</td>\n",
       "      <td>0.000000</td>\n",
       "      <td>0.000082</td>\n",
       "      <td>0.000233</td>\n",
       "      <td>0.000365</td>\n",
       "      <td>54.0</td>\n",
       "    </tr>\n",
       "  </tbody>\n",
       "</table>\n",
       "</div>"
      ],
      "text/plain": [
       "  Column Name       P-value   KS Score   Group 1 Min    Group 1 Q1  \\\n",
       "0      K13683  2.984835e-12   0.967213      0.000000  2.928910e-06   \n",
       "1      K08676  8.293921e-12   0.950820      0.000000  1.524630e-07   \n",
       "2      K02014  8.293921e-12   0.950820      0.000018  4.600933e-05   \n",
       "3      K01991  8.293921e-12   0.950820      0.000000  4.399279e-06   \n",
       "4      K09758  1.962863e-11   0.934426      0.000000  0.000000e+00   \n",
       "\n",
       "    Group 1 Median   Group 1 Q3   Group 1 Max   Group 2 Min   Group 2 Q1  \\\n",
       "0         0.000011     0.000034      0.000057      0.000000     0.000149   \n",
       "1         0.000005     0.000017      0.000027      0.000000     0.000098   \n",
       "2         0.000180     0.000568      0.000875      0.000018     0.003700   \n",
       "3         0.000011     0.000071      0.000108      0.000000     0.000341   \n",
       "4         0.000006     0.000020      0.000030      0.000000     0.000082   \n",
       "\n",
       "    Group 2 Median   Group 2 Q3   Group 2 Max  \n",
       "0         0.000399     0.000585          60.0  \n",
       "1         0.000254     0.000411          59.0  \n",
       "2         0.006671     0.010482          62.0  \n",
       "3         0.000616     0.000988          58.0  \n",
       "4         0.000233     0.000365          54.0  "
      ]
     },
     "execution_count": 6,
     "metadata": {},
     "output_type": "execute_result"
    }
   ],
   "source": [
    "df_comparisons.sort"
   ]
  },
  {
   "cell_type": "code",
   "execution_count": 14,
   "metadata": {
    "collapsed": false
   },
   "outputs": [],
   "source": [
    "f = open('../data/KEGGs-Larry-candidates.txt', 'rU')\n",
    "\n",
    "file_lines = []\n",
    "for line in f: \n",
    "    file_lines.append(line.rstrip())\n",
    "               \n",
    "f.close()"
   ]
  },
  {
   "cell_type": "code",
   "execution_count": 15,
   "metadata": {
    "collapsed": false
   },
   "outputs": [
    {
     "data": {
      "text/plain": [
       "['K15371()',\n",
       " 'K11055(CylJ_protein)',\n",
       " 'K06550(L1_cell_adhesion_molecule)',\n",
       " 'K02248(competence_protein_ComGF)',\n",
       " 'K09453(snRNA-activating_protein_complex_subunit_4)',\n",
       " 'K01674(carbonic_anhydrase)',\n",
       " 'K06759(contactin_1)',\n",
       " 'K08815(tau_tubulin_kinase)',\n",
       " 'K06634(cyclin_H)',\n",
       " 'K09421(myb-related_protein)',\n",
       " 'K13864()',\n",
       " 'K00327(NADPH-ferrihemoprotein_reductase)',\n",
       " 'K04933(potassium_voltage-gated_channel_delayed-rectifier_subfamily_S_member3)',\n",
       " 'K01574(acetoacetate_decarboxylase)',\n",
       " 'K05026(chloride_intracellular_channel_6)',\n",
       " 'K09560(suppressor_of_tumorigenicity_protein_13)',\n",
       " 'K11326(cation_efflux_system_protein_involved_in_nickel_and_cobalt_tolerance)',\n",
       " 'K15726()',\n",
       " 'K15719()',\n",
       " 'K14388()',\n",
       " 'K08476(two-component_system,_NtrC_family,_phosphoglycerate_transport_systemresponse_regulator_PgtA)',\n",
       " 'K12993(alpha-1,2-rhamnosyltransferase)',\n",
       " 'K01896(medium-chain_acyl-CoA_synthetase)',\n",
       " 'K09928(hypothetical_protein)',\n",
       " 'K08673(proprotein_convertase_subtilisin/kexin_type_7)',\n",
       " 'K10899(ATP-dependent_DNA_helicase_Q1)',\n",
       " 'K01360(proprotein_convertase_subtilisin/kexin_type_2)',\n",
       " 'K13957(kelch-like_protein_33)',\n",
       " 'K04963(ryanodine_receptor_3)',\n",
       " 'K09478(short/branched_chain_acyl-CoA_dehydrogenase)',\n",
       " 'K12375(arylsulfatase_I/J)',\n",
       " 'K03409(chemotaxis_protein_CheX)']"
      ]
     },
     "execution_count": 15,
     "metadata": {},
     "output_type": "execute_result"
    }
   ],
   "source": [
    "file_lines"
   ]
  },
  {
   "cell_type": "code",
   "execution_count": 16,
   "metadata": {
    "collapsed": true
   },
   "outputs": [],
   "source": [
    "kegg_candidates = [f.split(\"(\")[0] for f in file_lines]"
   ]
  },
  {
   "cell_type": "code",
   "execution_count": 44,
   "metadata": {
    "collapsed": false
   },
   "outputs": [
    {
     "data": {
      "text/plain": [
       "{'K01574'}"
      ]
     },
     "execution_count": 44,
     "metadata": {},
     "output_type": "execute_result"
    }
   ],
   "source": [
    "set(kegg_candidates).intersection(set(df_comparisons.sort_values(by = ' P-value', ascending = False).iloc[:10,0]))"
   ]
  },
  {
   "cell_type": "code",
   "execution_count": 45,
   "metadata": {
    "collapsed": false
   },
   "outputs": [
    {
     "name": "stdout",
     "output_type": "stream",
     "text": [
      "K01574(acetoacetate_decarboxylase)\n"
     ]
    }
   ],
   "source": [
    "for f in file_lines:\n",
    "    if 'K01574' in f:\n",
    "        print f"
   ]
  },
  {
   "cell_type": "code",
   "execution_count": null,
   "metadata": {
    "collapsed": true
   },
   "outputs": [],
   "source": []
  }
 ],
 "metadata": {
  "kernelspec": {
   "display_name": "Python 2",
   "language": "python",
   "name": "python2"
  },
  "language_info": {
   "codemirror_mode": {
    "name": "ipython",
    "version": 2
   },
   "file_extension": ".py",
   "mimetype": "text/x-python",
   "name": "python",
   "nbconvert_exporter": "python",
   "pygments_lexer": "ipython2",
   "version": "2.7.12"
  }
 },
 "nbformat": 4,
 "nbformat_minor": 0
}
